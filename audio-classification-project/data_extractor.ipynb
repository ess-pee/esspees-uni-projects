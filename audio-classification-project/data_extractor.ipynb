{
 "cells": [
  {
   "cell_type": "code",
   "execution_count": 53,
   "metadata": {},
   "outputs": [],
   "source": [
    "import os, os.path\n",
    "import tensorflow as tf\n",
    "import numpy as np\n",
    "import matplotlib.pyplot as plt\n",
    "from keras.models import Sequential\n",
    "from keras.layers import Dense, Dropout, BatchNormalization, Activation, Input, Conv2D, MaxPooling2D, Flatten, Softmax, Conv1D, MaxPooling1D\n",
    "from keras import optimizers, regularizers\n",
    "from sklearn import metrics\n",
    "import seaborn as sns\n",
    "import keras\n",
    "import time\n",
    "import random\n",
    "from hyperopt import fmin, tpe, hp\n",
    "from pydub import AudioSegment \n",
    "import shutil"
   ]
  },
  {
   "cell_type": "code",
   "execution_count": 15,
   "metadata": {},
   "outputs": [],
   "source": [
    "bgrnd_dir = 'speechData/_background_noise_'\n",
    "wavfiles = [wavfile for wavfile in os.listdir(bgrnd_dir) if '.wav' in wavfile]\n",
    "wavfiles = [os.path.join(bgrnd_dir, wavfile) for wavfile in wavfiles]"
   ]
  },
  {
   "cell_type": "code",
   "execution_count": 16,
   "metadata": {},
   "outputs": [],
   "source": [
    "def background_noise_maker(input_path, dirname):\n",
    "    audio = AudioSegment.from_wav(input_path)\n",
    "    duration = len(audio)\n",
    "\n",
    "    for i in range(0, duration, 1000):\n",
    "        sample = audio[i:i+1000]\n",
    "        filename = f'{dirname}/sample_{int(np.round(np.random.random(1)*10000000)[0])}.wav'\n",
    "        sample.export(filename, format='wav')\n",
    "        \n",
    "shutil.rmtree('speechData/background')\n",
    "        \n",
    "os.mkdir('speechData/background')\n",
    "_ = [background_noise_maker(wavfile, 'speechData/background') for wavfile in wavfiles]\n",
    "\n",
    "shutil.rmtree('speechData\\\\_background_noise_')"
   ]
  },
  {
   "cell_type": "code",
   "execution_count": 69,
   "metadata": {},
   "outputs": [
    {
     "name": "stdout",
     "output_type": "stream",
     "text": [
      "Found 10402 files belonging to 11 classes.\n",
      "Using 8322 files for training.\n",
      "Using 2080 files for validation.\n"
     ]
    }
   ],
   "source": [
    "train_ds, val_ds = tf.keras.utils.audio_dataset_from_directory(\n",
    "    directory='speechData',\n",
    "    labels=\"inferred\",\n",
    "    batch_size=128,\n",
    "    output_sequence_length=1000,\n",
    "    seed=0,\n",
    "    validation_split=0.2,\n",
    "    subset='both',\n",
    ")"
   ]
  },
  {
   "cell_type": "code",
   "execution_count": 70,
   "metadata": {},
   "outputs": [],
   "source": [
    "def squeeze(audio, labels):\n",
    "    audio = tf.squeeze(audio, axis=-1)\n",
    "    return audio, labels\n",
    "\n",
    "train_ds = train_ds.map(squeeze, tf.data.AUTOTUNE)\n",
    "val_ds = val_ds.map(squeeze, tf.data.AUTOTUNE)"
   ]
  },
  {
   "cell_type": "code",
   "execution_count": 71,
   "metadata": {},
   "outputs": [],
   "source": [
    "def popper(list):\n",
    "    \n",
    "    list.pop(-1)\n",
    "\n",
    "    return list\n",
    "\n",
    "x_train = [x for x, y in train_ds.take(-1)]\n",
    "y_train = [y for x, y in train_ds.take(-1)]\n",
    "\n",
    "x_val = [x for x, y in val_ds.take(-1)]\n",
    "y_val = [y for x, y in val_ds.take(-1)]\n",
    "\n",
    "x_train = popper(x_train)\n",
    "y_train = popper(y_train)\n",
    "\n",
    "x_val = popper(x_val)\n",
    "y_val = popper(y_val)"
   ]
  },
  {
   "cell_type": "code",
   "execution_count": 80,
   "metadata": {},
   "outputs": [
    {
     "name": "stdout",
     "output_type": "stream",
     "text": [
      "Model: \"sequential_7\"\n",
      "_________________________________________________________________\n",
      " Layer (type)                Output Shape              Param #   \n",
      "=================================================================\n",
      " conv1d_26 (Conv1D)          (None, 128, 32)           96032     \n",
      "                                                                 \n",
      " batch_normalization_25 (Bat  (None, 128, 32)          128       \n",
      " chNormalization)                                                \n",
      "                                                                 \n",
      " activation_25 (Activation)  (None, 128, 32)           0         \n",
      "                                                                 \n",
      " max_pooling1d_20 (MaxPoolin  (None, 64, 32)           0         \n",
      " g1D)                                                            \n",
      "                                                                 \n",
      " conv1d_27 (Conv1D)          (None, 64, 32)            3104      \n",
      "                                                                 \n",
      " batch_normalization_26 (Bat  (None, 64, 32)           128       \n",
      " chNormalization)                                                \n",
      "                                                                 \n",
      " activation_26 (Activation)  (None, 64, 32)            0         \n",
      "                                                                 \n",
      " max_pooling1d_21 (MaxPoolin  (None, 32, 32)           0         \n",
      " g1D)                                                            \n",
      "                                                                 \n",
      " conv1d_28 (Conv1D)          (None, 32, 32)            3104      \n",
      "                                                                 \n",
      " batch_normalization_27 (Bat  (None, 32, 32)           128       \n",
      " chNormalization)                                                \n",
      "                                                                 \n",
      " activation_27 (Activation)  (None, 32, 32)            0         \n",
      "                                                                 \n",
      " max_pooling1d_22 (MaxPoolin  (None, 16, 32)           0         \n",
      " g1D)                                                            \n",
      "                                                                 \n",
      " conv1d_29 (Conv1D)          (None, 16, 32)            3104      \n",
      "                                                                 \n",
      " batch_normalization_28 (Bat  (None, 16, 32)           128       \n",
      " chNormalization)                                                \n",
      "                                                                 \n",
      " activation_28 (Activation)  (None, 16, 32)            0         \n",
      "                                                                 \n",
      " max_pooling1d_23 (MaxPoolin  (None, 8, 32)            0         \n",
      " g1D)                                                            \n",
      "                                                                 \n",
      " conv1d_30 (Conv1D)          (None, 8, 32)             3104      \n",
      "                                                                 \n",
      " batch_normalization_29 (Bat  (None, 8, 32)            128       \n",
      " chNormalization)                                                \n",
      "                                                                 \n",
      " activation_29 (Activation)  (None, 8, 32)             0         \n",
      "                                                                 \n",
      " dropout_5 (Dropout)         (None, 8, 32)             0         \n",
      "                                                                 \n",
      " flatten_4 (Flatten)         (None, 256)               0         \n",
      "                                                                 \n",
      " dense_4 (Dense)             (None, 11)                2827      \n",
      "                                                                 \n",
      " softmax_4 (Softmax)         (None, 11)                0         \n",
      "                                                                 \n",
      "=================================================================\n",
      "Total params: 111,915\n",
      "Trainable params: 111,595\n",
      "Non-trainable params: 320\n",
      "_________________________________________________________________\n"
     ]
    }
   ],
   "source": [
    "# Initialise the model\n",
    "model = Sequential()\n",
    "\n",
    "# Input Layer\n",
    "model.add(Input(shape=(128, 1000)))\n",
    "\n",
    "# Convolutional Layers: nothing special here just skips adding a pooling layer at whatever the last convolutional layer is to accommdate for the dropout\n",
    "for i in range(5):\n",
    "    model.add(Conv1D(32, kernel_size = 3, padding='same'))\n",
    "    model.add(BatchNormalization())\n",
    "    model.add(Activation('relu'))\n",
    "    if i != 5-1:\n",
    "        model.add(MaxPooling1D(pool_size =1, strides=2, padding= 'same'))\n",
    "\n",
    "model.add(Dropout((0.2)))\n",
    "# Final Layer\n",
    "model.add(Flatten())\n",
    "model.add(Dense(11))\n",
    "model.add(Softmax())\n",
    "\n",
    "# Set the optimization options and compile the model\n",
    "opt = optimizers.Adam(learning_rate=0.0001)\n",
    "model.compile(loss=\"categorical_crossentropy\", optimizer=opt, metrics=[\"accuracy\"])\n",
    "model.summary()"
   ]
  },
  {
   "cell_type": "code",
   "execution_count": 81,
   "metadata": {},
   "outputs": [
    {
     "name": "stdout",
     "output_type": "stream",
     "text": [
      "Epoch 1/20\n"
     ]
    },
    {
     "ename": "ValueError",
     "evalue": "in user code:\n\n    File \"c:\\ProgramData\\anaconda3\\envs\\tf_gpu\\lib\\site-packages\\keras\\engine\\training.py\", line 1160, in train_function  *\n        return step_function(self, iterator)\n    File \"c:\\ProgramData\\anaconda3\\envs\\tf_gpu\\lib\\site-packages\\keras\\engine\\training.py\", line 1146, in step_function  **\n        outputs = model.distribute_strategy.run(run_step, args=(data,))\n    File \"c:\\ProgramData\\anaconda3\\envs\\tf_gpu\\lib\\site-packages\\keras\\engine\\training.py\", line 1135, in run_step  **\n        outputs = model.train_step(data)\n    File \"c:\\ProgramData\\anaconda3\\envs\\tf_gpu\\lib\\site-packages\\keras\\engine\\training.py\", line 993, in train_step\n        y_pred = self(x, training=True)\n    File \"c:\\ProgramData\\anaconda3\\envs\\tf_gpu\\lib\\site-packages\\keras\\utils\\traceback_utils.py\", line 70, in error_handler\n        raise e.with_traceback(filtered_tb) from None\n    File \"c:\\ProgramData\\anaconda3\\envs\\tf_gpu\\lib\\site-packages\\keras\\engine\\input_spec.py\", line 216, in assert_input_compatibility\n        raise ValueError(\n\n    ValueError: Layer \"sequential_7\" expects 1 input(s), but it received 65 input tensors. Inputs received: [<tf.Tensor 'IteratorGetNext:0' shape=(None, 1000) dtype=float32>, <tf.Tensor 'IteratorGetNext:1' shape=(None, 1000) dtype=float32>, <tf.Tensor 'IteratorGetNext:2' shape=(None, 1000) dtype=float32>, <tf.Tensor 'IteratorGetNext:3' shape=(None, 1000) dtype=float32>, <tf.Tensor 'IteratorGetNext:4' shape=(None, 1000) dtype=float32>, <tf.Tensor 'IteratorGetNext:5' shape=(None, 1000) dtype=float32>, <tf.Tensor 'IteratorGetNext:6' shape=(None, 1000) dtype=float32>, <tf.Tensor 'IteratorGetNext:7' shape=(None, 1000) dtype=float32>, <tf.Tensor 'IteratorGetNext:8' shape=(None, 1000) dtype=float32>, <tf.Tensor 'IteratorGetNext:9' shape=(None, 1000) dtype=float32>, <tf.Tensor 'IteratorGetNext:10' shape=(None, 1000) dtype=float32>, <tf.Tensor 'IteratorGetNext:11' shape=(None, 1000) dtype=float32>, <tf.Tensor 'IteratorGetNext:12' shape=(None, 1000) dtype=float32>, <tf.Tensor 'IteratorGetNext:13' shape=(None, 1000) dtype=float32>, <tf.Tensor 'IteratorGetNext:14' shape=(None, 1000) dtype=float32>, <tf.Tensor 'IteratorGetNext:15' shape=(None, 1000) dtype=float32>, <tf.Tensor 'IteratorGetNext:16' shape=(None, 1000) dtype=float32>, <tf.Tensor 'IteratorGetNext:17' shape=(None, 1000) dtype=float32>, <tf.Tensor 'IteratorGetNext:18' shape=(None, 1000) dtype=float32>, <tf.Tensor 'IteratorGetNext:19' shape=(None, 1000) dtype=float32>, <tf.Tensor 'IteratorGetNext:20' shape=(None, 1000) dtype=float32>, <tf.Tensor 'IteratorGetNext:21' shape=(None, 1000) dtype=float32>, <tf.Tensor 'IteratorGetNext:22' shape=(None, 1000) dtype=float32>, <tf.Tensor 'IteratorGetNext:23' shape=(None, 1000) dtype=float32>, <tf.Tensor 'IteratorGetNext:24' shape=(None, 1000) dtype=float32>, <tf.Tensor 'IteratorGetNext:25' shape=(None, 1000) dtype=float32>, <tf.Tensor 'IteratorGetNext:26' shape=(None, 1000) dtype=float32>, <tf.Tensor 'IteratorGetNext:27' shape=(None, 1000) dtype=float32>, <tf.Tensor 'IteratorGetNext:28' shape=(None, 1000) dtype=float32>, <tf.Tensor 'IteratorGetNext:29' shape=(None, 1000) dtype=float32>, <tf.Tensor 'IteratorGetNext:30' shape=(None, 1000) dtype=float32>, <tf.Tensor 'IteratorGetNext:31' shape=(None, 1000) dtype=float32>, <tf.Tensor 'IteratorGetNext:32' shape=(None, 1000) dtype=float32>, <tf.Tensor 'IteratorGetNext:33' shape=(None, 1000) dtype=float32>, <tf.Tensor 'IteratorGetNext:34' shape=(None, 1000) dtype=float32>, <tf.Tensor 'IteratorGetNext:35' shape=(None, 1000) dtype=float32>, <tf.Tensor 'IteratorGetNext:36' shape=(None, 1000) dtype=float32>, <tf.Tensor 'IteratorGetNext:37' shape=(None, 1000) dtype=float32>, <tf.Tensor 'IteratorGetNext:38' shape=(None, 1000) dtype=float32>, <tf.Tensor 'IteratorGetNext:39' shape=(None, 1000) dtype=float32>, <tf.Tensor 'IteratorGetNext:40' shape=(None, 1000) dtype=float32>, <tf.Tensor 'IteratorGetNext:41' shape=(None, 1000) dtype=float32>, <tf.Tensor 'IteratorGetNext:42' shape=(None, 1000) dtype=float32>, <tf.Tensor 'IteratorGetNext:43' shape=(None, 1000) dtype=float32>, <tf.Tensor 'IteratorGetNext:44' shape=(None, 1000) dtype=float32>, <tf.Tensor 'IteratorGetNext:45' shape=(None, 1000) dtype=float32>, <tf.Tensor 'IteratorGetNext:46' shape=(None, 1000) dtype=float32>, <tf.Tensor 'IteratorGetNext:47' shape=(None, 1000) dtype=float32>, <tf.Tensor 'IteratorGetNext:48' shape=(None, 1000) dtype=float32>, <tf.Tensor 'IteratorGetNext:49' shape=(None, 1000) dtype=float32>, <tf.Tensor 'IteratorGetNext:50' shape=(None, 1000) dtype=float32>, <tf.Tensor 'IteratorGetNext:51' shape=(None, 1000) dtype=float32>, <tf.Tensor 'IteratorGetNext:52' shape=(None, 1000) dtype=float32>, <tf.Tensor 'IteratorGetNext:53' shape=(None, 1000) dtype=float32>, <tf.Tensor 'IteratorGetNext:54' shape=(None, 1000) dtype=float32>, <tf.Tensor 'IteratorGetNext:55' shape=(None, 1000) dtype=float32>, <tf.Tensor 'IteratorGetNext:56' shape=(None, 1000) dtype=float32>, <tf.Tensor 'IteratorGetNext:57' shape=(None, 1000) dtype=float32>, <tf.Tensor 'IteratorGetNext:58' shape=(None, 1000) dtype=float32>, <tf.Tensor 'IteratorGetNext:59' shape=(None, 1000) dtype=float32>, <tf.Tensor 'IteratorGetNext:60' shape=(None, 1000) dtype=float32>, <tf.Tensor 'IteratorGetNext:61' shape=(None, 1000) dtype=float32>, <tf.Tensor 'IteratorGetNext:62' shape=(None, 1000) dtype=float32>, <tf.Tensor 'IteratorGetNext:63' shape=(None, 1000) dtype=float32>, <tf.Tensor 'IteratorGetNext:64' shape=(None, 1000) dtype=float32>]\n",
     "output_type": "error",
     "traceback": [
      "\u001b[1;31m---------------------------------------------------------------------------\u001b[0m",
      "\u001b[1;31mValueError\u001b[0m                                Traceback (most recent call last)",
      "Cell \u001b[1;32mIn[81], line 1\u001b[0m\n\u001b[1;32m----> 1\u001b[0m history \u001b[38;5;241m=\u001b[39m \u001b[43mmodel\u001b[49m\u001b[38;5;241;43m.\u001b[39;49m\u001b[43mfit\u001b[49m\u001b[43m(\u001b[49m\u001b[43mx_train\u001b[49m\u001b[43m,\u001b[49m\u001b[43m \u001b[49m\u001b[43my_train\u001b[49m\u001b[43m,\u001b[49m\u001b[43m \u001b[49m\u001b[43mbatch_size\u001b[49m\u001b[38;5;241;43m=\u001b[39;49m\u001b[38;5;241;43m16\u001b[39;49m\u001b[43m,\u001b[49m\u001b[43m \u001b[49m\u001b[43mepochs\u001b[49m\u001b[38;5;241;43m=\u001b[39;49m\u001b[38;5;241;43m20\u001b[39;49m\u001b[43m,\u001b[49m\u001b[43m \u001b[49m\u001b[43mvalidation_split\u001b[49m\u001b[38;5;241;43m=\u001b[39;49m\u001b[38;5;241;43m0.2\u001b[39;49m\u001b[43m,\u001b[49m\u001b[43m \u001b[49m\u001b[43mverbose\u001b[49m\u001b[38;5;241;43m=\u001b[39;49m\u001b[38;5;241;43m1\u001b[39;49m\u001b[43m)\u001b[49m\n",
      "File \u001b[1;32mc:\\ProgramData\\anaconda3\\envs\\tf_gpu\\lib\\site-packages\\keras\\utils\\traceback_utils.py:70\u001b[0m, in \u001b[0;36mfilter_traceback.<locals>.error_handler\u001b[1;34m(*args, **kwargs)\u001b[0m\n\u001b[0;32m     67\u001b[0m     filtered_tb \u001b[38;5;241m=\u001b[39m _process_traceback_frames(e\u001b[38;5;241m.\u001b[39m__traceback__)\n\u001b[0;32m     68\u001b[0m     \u001b[38;5;66;03m# To get the full stack trace, call:\u001b[39;00m\n\u001b[0;32m     69\u001b[0m     \u001b[38;5;66;03m# `tf.debugging.disable_traceback_filtering()`\u001b[39;00m\n\u001b[1;32m---> 70\u001b[0m     \u001b[38;5;28;01mraise\u001b[39;00m e\u001b[38;5;241m.\u001b[39mwith_traceback(filtered_tb) \u001b[38;5;28;01mfrom\u001b[39;00m \u001b[38;5;28;01mNone\u001b[39;00m\n\u001b[0;32m     71\u001b[0m \u001b[38;5;28;01mfinally\u001b[39;00m:\n\u001b[0;32m     72\u001b[0m     \u001b[38;5;28;01mdel\u001b[39;00m filtered_tb\n",
      "File \u001b[1;32mC:\\Users\\SHAURY~1\\AppData\\Local\\Temp\\__autograph_generated_file2tyhc03i.py:15\u001b[0m, in \u001b[0;36mouter_factory.<locals>.inner_factory.<locals>.tf__train_function\u001b[1;34m(iterator)\u001b[0m\n\u001b[0;32m     13\u001b[0m \u001b[38;5;28;01mtry\u001b[39;00m:\n\u001b[0;32m     14\u001b[0m     do_return \u001b[38;5;241m=\u001b[39m \u001b[38;5;28;01mTrue\u001b[39;00m\n\u001b[1;32m---> 15\u001b[0m     retval_ \u001b[38;5;241m=\u001b[39m ag__\u001b[38;5;241m.\u001b[39mconverted_call(ag__\u001b[38;5;241m.\u001b[39mld(step_function), (ag__\u001b[38;5;241m.\u001b[39mld(\u001b[38;5;28mself\u001b[39m), ag__\u001b[38;5;241m.\u001b[39mld(iterator)), \u001b[38;5;28;01mNone\u001b[39;00m, fscope)\n\u001b[0;32m     16\u001b[0m \u001b[38;5;28;01mexcept\u001b[39;00m:\n\u001b[0;32m     17\u001b[0m     do_return \u001b[38;5;241m=\u001b[39m \u001b[38;5;28;01mFalse\u001b[39;00m\n",
      "\u001b[1;31mValueError\u001b[0m: in user code:\n\n    File \"c:\\ProgramData\\anaconda3\\envs\\tf_gpu\\lib\\site-packages\\keras\\engine\\training.py\", line 1160, in train_function  *\n        return step_function(self, iterator)\n    File \"c:\\ProgramData\\anaconda3\\envs\\tf_gpu\\lib\\site-packages\\keras\\engine\\training.py\", line 1146, in step_function  **\n        outputs = model.distribute_strategy.run(run_step, args=(data,))\n    File \"c:\\ProgramData\\anaconda3\\envs\\tf_gpu\\lib\\site-packages\\keras\\engine\\training.py\", line 1135, in run_step  **\n        outputs = model.train_step(data)\n    File \"c:\\ProgramData\\anaconda3\\envs\\tf_gpu\\lib\\site-packages\\keras\\engine\\training.py\", line 993, in train_step\n        y_pred = self(x, training=True)\n    File \"c:\\ProgramData\\anaconda3\\envs\\tf_gpu\\lib\\site-packages\\keras\\utils\\traceback_utils.py\", line 70, in error_handler\n        raise e.with_traceback(filtered_tb) from None\n    File \"c:\\ProgramData\\anaconda3\\envs\\tf_gpu\\lib\\site-packages\\keras\\engine\\input_spec.py\", line 216, in assert_input_compatibility\n        raise ValueError(\n\n    ValueError: Layer \"sequential_7\" expects 1 input(s), but it received 65 input tensors. Inputs received: [<tf.Tensor 'IteratorGetNext:0' shape=(None, 1000) dtype=float32>, <tf.Tensor 'IteratorGetNext:1' shape=(None, 1000) dtype=float32>, <tf.Tensor 'IteratorGetNext:2' shape=(None, 1000) dtype=float32>, <tf.Tensor 'IteratorGetNext:3' shape=(None, 1000) dtype=float32>, <tf.Tensor 'IteratorGetNext:4' shape=(None, 1000) dtype=float32>, <tf.Tensor 'IteratorGetNext:5' shape=(None, 1000) dtype=float32>, <tf.Tensor 'IteratorGetNext:6' shape=(None, 1000) dtype=float32>, <tf.Tensor 'IteratorGetNext:7' shape=(None, 1000) dtype=float32>, <tf.Tensor 'IteratorGetNext:8' shape=(None, 1000) dtype=float32>, <tf.Tensor 'IteratorGetNext:9' shape=(None, 1000) dtype=float32>, <tf.Tensor 'IteratorGetNext:10' shape=(None, 1000) dtype=float32>, <tf.Tensor 'IteratorGetNext:11' shape=(None, 1000) dtype=float32>, <tf.Tensor 'IteratorGetNext:12' shape=(None, 1000) dtype=float32>, <tf.Tensor 'IteratorGetNext:13' shape=(None, 1000) dtype=float32>, <tf.Tensor 'IteratorGetNext:14' shape=(None, 1000) dtype=float32>, <tf.Tensor 'IteratorGetNext:15' shape=(None, 1000) dtype=float32>, <tf.Tensor 'IteratorGetNext:16' shape=(None, 1000) dtype=float32>, <tf.Tensor 'IteratorGetNext:17' shape=(None, 1000) dtype=float32>, <tf.Tensor 'IteratorGetNext:18' shape=(None, 1000) dtype=float32>, <tf.Tensor 'IteratorGetNext:19' shape=(None, 1000) dtype=float32>, <tf.Tensor 'IteratorGetNext:20' shape=(None, 1000) dtype=float32>, <tf.Tensor 'IteratorGetNext:21' shape=(None, 1000) dtype=float32>, <tf.Tensor 'IteratorGetNext:22' shape=(None, 1000) dtype=float32>, <tf.Tensor 'IteratorGetNext:23' shape=(None, 1000) dtype=float32>, <tf.Tensor 'IteratorGetNext:24' shape=(None, 1000) dtype=float32>, <tf.Tensor 'IteratorGetNext:25' shape=(None, 1000) dtype=float32>, <tf.Tensor 'IteratorGetNext:26' shape=(None, 1000) dtype=float32>, <tf.Tensor 'IteratorGetNext:27' shape=(None, 1000) dtype=float32>, <tf.Tensor 'IteratorGetNext:28' shape=(None, 1000) dtype=float32>, <tf.Tensor 'IteratorGetNext:29' shape=(None, 1000) dtype=float32>, <tf.Tensor 'IteratorGetNext:30' shape=(None, 1000) dtype=float32>, <tf.Tensor 'IteratorGetNext:31' shape=(None, 1000) dtype=float32>, <tf.Tensor 'IteratorGetNext:32' shape=(None, 1000) dtype=float32>, <tf.Tensor 'IteratorGetNext:33' shape=(None, 1000) dtype=float32>, <tf.Tensor 'IteratorGetNext:34' shape=(None, 1000) dtype=float32>, <tf.Tensor 'IteratorGetNext:35' shape=(None, 1000) dtype=float32>, <tf.Tensor 'IteratorGetNext:36' shape=(None, 1000) dtype=float32>, <tf.Tensor 'IteratorGetNext:37' shape=(None, 1000) dtype=float32>, <tf.Tensor 'IteratorGetNext:38' shape=(None, 1000) dtype=float32>, <tf.Tensor 'IteratorGetNext:39' shape=(None, 1000) dtype=float32>, <tf.Tensor 'IteratorGetNext:40' shape=(None, 1000) dtype=float32>, <tf.Tensor 'IteratorGetNext:41' shape=(None, 1000) dtype=float32>, <tf.Tensor 'IteratorGetNext:42' shape=(None, 1000) dtype=float32>, <tf.Tensor 'IteratorGetNext:43' shape=(None, 1000) dtype=float32>, <tf.Tensor 'IteratorGetNext:44' shape=(None, 1000) dtype=float32>, <tf.Tensor 'IteratorGetNext:45' shape=(None, 1000) dtype=float32>, <tf.Tensor 'IteratorGetNext:46' shape=(None, 1000) dtype=float32>, <tf.Tensor 'IteratorGetNext:47' shape=(None, 1000) dtype=float32>, <tf.Tensor 'IteratorGetNext:48' shape=(None, 1000) dtype=float32>, <tf.Tensor 'IteratorGetNext:49' shape=(None, 1000) dtype=float32>, <tf.Tensor 'IteratorGetNext:50' shape=(None, 1000) dtype=float32>, <tf.Tensor 'IteratorGetNext:51' shape=(None, 1000) dtype=float32>, <tf.Tensor 'IteratorGetNext:52' shape=(None, 1000) dtype=float32>, <tf.Tensor 'IteratorGetNext:53' shape=(None, 1000) dtype=float32>, <tf.Tensor 'IteratorGetNext:54' shape=(None, 1000) dtype=float32>, <tf.Tensor 'IteratorGetNext:55' shape=(None, 1000) dtype=float32>, <tf.Tensor 'IteratorGetNext:56' shape=(None, 1000) dtype=float32>, <tf.Tensor 'IteratorGetNext:57' shape=(None, 1000) dtype=float32>, <tf.Tensor 'IteratorGetNext:58' shape=(None, 1000) dtype=float32>, <tf.Tensor 'IteratorGetNext:59' shape=(None, 1000) dtype=float32>, <tf.Tensor 'IteratorGetNext:60' shape=(None, 1000) dtype=float32>, <tf.Tensor 'IteratorGetNext:61' shape=(None, 1000) dtype=float32>, <tf.Tensor 'IteratorGetNext:62' shape=(None, 1000) dtype=float32>, <tf.Tensor 'IteratorGetNext:63' shape=(None, 1000) dtype=float32>, <tf.Tensor 'IteratorGetNext:64' shape=(None, 1000) dtype=float32>]\n"
     ]
    }
   ],
   "source": [
    "history = model.fit(x_train, y_train, batch_size=16, epochs=20, validation_split=0.2, verbose=1)"
   ]
  },
  {
   "cell_type": "code",
   "execution_count": null,
   "metadata": {},
   "outputs": [],
   "source": []
  }
 ],
 "metadata": {
  "kernelspec": {
   "display_name": "tf_gpu",
   "language": "python",
   "name": "python3"
  },
  "language_info": {
   "codemirror_mode": {
    "name": "ipython",
    "version": 3
   },
   "file_extension": ".py",
   "mimetype": "text/x-python",
   "name": "python",
   "nbconvert_exporter": "python",
   "pygments_lexer": "ipython3",
   "version": "3.10.13"
  }
 },
 "nbformat": 4,
 "nbformat_minor": 2
}
